{
  "nbformat": 4,
  "nbformat_minor": 0,
  "metadata": {
    "colab": {
      "provenance": [],
      "authorship_tag": "ABX9TyMboLquDqfnKdvRCcBkvuRF",
      "include_colab_link": true
    },
    "kernelspec": {
      "name": "python3",
      "display_name": "Python 3"
    },
    "language_info": {
      "name": "python"
    }
  },
  "cells": [
    {
      "cell_type": "markdown",
      "metadata": {
        "id": "view-in-github",
        "colab_type": "text"
      },
      "source": [
        "<a href=\"https://colab.research.google.com/github/donisrv/Data-Science-ML-AI/blob/main/NumPy_kutubxonasi_N_o'lchamli_massivlar.ipynb\" target=\"_parent\"><img src=\"https://colab.research.google.com/assets/colab-badge.svg\" alt=\"Open In Colab\"/></a>"
      ]
    },
    {
      "cell_type": "code",
      "execution_count": 1,
      "metadata": {
        "id": "ktC0yPz2xKBJ"
      },
      "outputs": [],
      "source": [
        "import numpy as np"
      ]
    },
    {
      "cell_type": "code",
      "source": [
        "data4 = [[1, 2, 3, 4], [5, 6, 7, 8], [9, 10, 11, 12]]"
      ],
      "metadata": {
        "id": "TPsQRtY1xo1C"
      },
      "execution_count": 2,
      "outputs": []
    },
    {
      "cell_type": "code",
      "source": [
        "data4"
      ],
      "metadata": {
        "colab": {
          "base_uri": "https://localhost:8080/"
        },
        "id": "kx0XgEdHx3oC",
        "outputId": "8408931c-56be-4a02-a894-16f1fc7fddd4"
      },
      "execution_count": 4,
      "outputs": [
        {
          "output_type": "execute_result",
          "data": {
            "text/plain": [
              "[[1, 2, 3, 4], [5, 6, 7, 8], [9, 10, 11, 12]]"
            ]
          },
          "metadata": {},
          "execution_count": 4
        }
      ]
    },
    {
      "cell_type": "code",
      "source": [
        "data4.ndim"
      ],
      "metadata": {
        "colab": {
          "base_uri": "https://localhost:8080/",
          "height": 166
        },
        "id": "egN-Hd8Bx7bx",
        "outputId": "9a1b6efa-883f-4591-ae67-5c938a4926ab"
      },
      "execution_count": 5,
      "outputs": [
        {
          "output_type": "error",
          "ename": "AttributeError",
          "evalue": "ignored",
          "traceback": [
            "\u001b[0;31m---------------------------------------------------------------------------\u001b[0m",
            "\u001b[0;31mAttributeError\u001b[0m                            Traceback (most recent call last)",
            "\u001b[0;32m<ipython-input-5-c8cc6bd021f4>\u001b[0m in \u001b[0;36m<cell line: 1>\u001b[0;34m()\u001b[0m\n\u001b[0;32m----> 1\u001b[0;31m \u001b[0mdata4\u001b[0m\u001b[0;34m.\u001b[0m\u001b[0mndim\u001b[0m\u001b[0;34m\u001b[0m\u001b[0;34m\u001b[0m\u001b[0m\n\u001b[0m",
            "\u001b[0;31mAttributeError\u001b[0m: 'list' object has no attribute 'ndim'"
          ]
        }
      ]
    },
    {
      "cell_type": "code",
      "source": [
        "array_3d = np.zeros((3, 4, 2))"
      ],
      "metadata": {
        "id": "o3Km6WsCyKAA"
      },
      "execution_count": 7,
      "outputs": []
    },
    {
      "cell_type": "code",
      "source": [
        "print(array_3d)"
      ],
      "metadata": {
        "colab": {
          "base_uri": "https://localhost:8080/"
        },
        "id": "Gx6FNkPu2Zgu",
        "outputId": "d86ae751-ed83-45bb-c9a6-dbdd56f6fbc8"
      },
      "execution_count": 8,
      "outputs": [
        {
          "output_type": "stream",
          "name": "stdout",
          "text": [
            "[[[0. 0.]\n",
            "  [0. 0.]\n",
            "  [0. 0.]\n",
            "  [0. 0.]]\n",
            "\n",
            " [[0. 0.]\n",
            "  [0. 0.]\n",
            "  [0. 0.]\n",
            "  [0. 0.]]\n",
            "\n",
            " [[0. 0.]\n",
            "  [0. 0.]\n",
            "  [0. 0.]\n",
            "  [0. 0.]]]\n"
          ]
        }
      ]
    },
    {
      "cell_type": "code",
      "source": [
        "array_3d1 = np.random.rand(3, 4, 2)"
      ],
      "metadata": {
        "id": "xY1FTk845k5r"
      },
      "execution_count": 9,
      "outputs": []
    },
    {
      "cell_type": "code",
      "source": [
        "print(array_3d1)"
      ],
      "metadata": {
        "colab": {
          "base_uri": "https://localhost:8080/"
        },
        "id": "A0GiLlEB6UzL",
        "outputId": "67374144-1c29-407b-d229-be0498beff7c"
      },
      "execution_count": 10,
      "outputs": [
        {
          "output_type": "stream",
          "name": "stdout",
          "text": [
            "[[[0.46998614 0.4931113 ]\n",
            "  [0.10399414 0.61529674]\n",
            "  [0.17895435 0.24070886]\n",
            "  [0.60759435 0.87610231]]\n",
            "\n",
            " [[0.78614296 0.10129572]\n",
            "  [0.49201303 0.14744193]\n",
            "  [0.95573607 0.904298  ]\n",
            "  [0.38560813 0.33493505]]\n",
            "\n",
            " [[0.71501197 0.94756549]\n",
            "  [0.81000085 0.32938859]\n",
            "  [0.160998   0.98811681]\n",
            "  [0.34828328 0.7511219 ]]]\n"
          ]
        }
      ]
    },
    {
      "cell_type": "code",
      "source": [
        "array_3d2 = np.random.randint(0, 10, size=(3, 4, 2))"
      ],
      "metadata": {
        "id": "99yYKfEO6YW7"
      },
      "execution_count": 11,
      "outputs": []
    },
    {
      "cell_type": "code",
      "source": [
        "print(array_3d2)"
      ],
      "metadata": {
        "colab": {
          "base_uri": "https://localhost:8080/"
        },
        "id": "oGKuRkaa6kD7",
        "outputId": "f43086b5-a2c4-4369-a406-99d046e5599e"
      },
      "execution_count": 12,
      "outputs": [
        {
          "output_type": "stream",
          "name": "stdout",
          "text": [
            "[[[3 3]\n",
            "  [4 4]\n",
            "  [2 1]\n",
            "  [0 4]]\n",
            "\n",
            " [[1 7]\n",
            "  [1 5]\n",
            "  [9 4]\n",
            "  [8 1]]\n",
            "\n",
            " [[0 5]\n",
            "  [5 3]\n",
            "  [8 1]\n",
            "  [6 6]]]\n"
          ]
        }
      ]
    },
    {
      "cell_type": "code",
      "source": [],
      "metadata": {
        "id": "eiR6bwPj6n_L"
      },
      "execution_count": null,
      "outputs": []
    }
  ]
}