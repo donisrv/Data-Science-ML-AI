{
  "nbformat": 4,
  "nbformat_minor": 0,
  "metadata": {
    "colab": {
      "provenance": [],
      "authorship_tag": "ABX9TyOMT3Ii5h0GWanXR1Gu3hZY",
      "include_colab_link": true
    },
    "kernelspec": {
      "name": "python3",
      "display_name": "Python 3"
    },
    "language_info": {
      "name": "python"
    }
  },
  "cells": [
    {
      "cell_type": "markdown",
      "metadata": {
        "id": "view-in-github",
        "colab_type": "text"
      },
      "source": [
        "<a href=\"https://colab.research.google.com/github/donisrv/Data-Science-ML-AI/blob/main/Numpy_birinchi_tanishuv0.ipynb\" target=\"_parent\"><img src=\"https://colab.research.google.com/assets/colab-badge.svg\" alt=\"Open In Colab\"/></a>"
      ]
    },
    {
      "cell_type": "code",
      "execution_count": 1,
      "metadata": {
        "id": "QC4LBDEl1iu9"
      },
      "outputs": [],
      "source": [
        "import numpy as np"
      ]
    },
    {
      "cell_type": "code",
      "source": [
        "my_list = list(range(100000)) # python list 0~99999 -->Normal\n",
        "my_array = np.array(range(100000)) # numpy array(massiv) 0~99999 --> Vektorlashgan"
      ],
      "metadata": {
        "id": "xP9EzdbxLFOd"
      },
      "execution_count": 2,
      "outputs": []
    },
    {
      "cell_type": "code",
      "source": [
        "%time for _ in range(10): [x*2 for x in my_list] # Normal"
      ],
      "metadata": {
        "colab": {
          "base_uri": "https://localhost:8080/"
        },
        "id": "_5w2Q4tqLGN9",
        "outputId": "ef83f0ca-35da-4b11-de73-86663a079cb3"
      },
      "execution_count": 3,
      "outputs": [
        {
          "output_type": "stream",
          "name": "stdout",
          "text": [
            "CPU times: user 41.5 ms, sys: 3.74 ms, total: 45.2 ms\n",
            "Wall time: 45.3 ms\n"
          ]
        }
      ]
    },
    {
      "cell_type": "code",
      "source": [
        "%time for _ in range(10): my_array*2 # Vektorlashgan"
      ],
      "metadata": {
        "colab": {
          "base_uri": "https://localhost:8080/"
        },
        "id": "r5_RRuo6Lwkv",
        "outputId": "796b53a1-ad41-4701-b0e4-a20c475aee75"
      },
      "execution_count": 4,
      "outputs": [
        {
          "output_type": "stream",
          "name": "stdout",
          "text": [
            "CPU times: user 1.42 ms, sys: 0 ns, total: 1.42 ms\n",
            "Wall time: 5.12 ms\n"
          ]
        }
      ]
    },
    {
      "cell_type": "code",
      "source": [
        "45.3/5.12"
      ],
      "metadata": {
        "colab": {
          "base_uri": "https://localhost:8080/"
        },
        "id": "YvXs7dCQL0Xu",
        "outputId": "c801b7b9-f472-456d-8cee-f3ee22199f7d"
      },
      "execution_count": 5,
      "outputs": [
        {
          "output_type": "execute_result",
          "data": {
            "text/plain": [
              "8.84765625"
            ]
          },
          "metadata": {},
          "execution_count": 5
        }
      ]
    },
    {
      "cell_type": "code",
      "source": [],
      "metadata": {
        "id": "uvIOIusaL4id"
      },
      "execution_count": null,
      "outputs": []
    }
  ]
}