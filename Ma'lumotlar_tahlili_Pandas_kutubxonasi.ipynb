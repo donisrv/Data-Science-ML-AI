{
  "nbformat": 4,
  "nbformat_minor": 0,
  "metadata": {
    "colab": {
      "provenance": [],
      "authorship_tag": "ABX9TyMvssCX9cvuBBWV00b+B1ZF",
      "include_colab_link": true
    },
    "kernelspec": {
      "name": "python3",
      "display_name": "Python 3"
    },
    "language_info": {
      "name": "python"
    }
  },
  "cells": [
    {
      "cell_type": "markdown",
      "metadata": {
        "id": "view-in-github",
        "colab_type": "text"
      },
      "source": [
        "<a href=\"https://colab.research.google.com/github/donisrv/Data-Science-ML-AI/blob/main/Ma'lumotlar_tahlili_Pandas_kutubxonasi.ipynb\" target=\"_parent\"><img src=\"https://colab.research.google.com/assets/colab-badge.svg\" alt=\"Open In Colab\"/></a>"
      ]
    },
    {
      "cell_type": "code",
      "execution_count": 1,
      "metadata": {
        "id": "SCGxRD3t8bZO"
      },
      "outputs": [],
      "source": [
        "import pandas as pd\n",
        "import numpy as np"
      ]
    },
    {
      "cell_type": "markdown",
      "source": [
        "## `pandas` tarkibidagi ma'lumotlar tuzilmalari\n",
        "\n",
        "pandas ikkita juda muhim va deyalri barcha loyihalar uchun mos tushuvchi Series va DataFrame ma'lumotlar tuzilamalariga ega. Keling ular bilan yaqindan tanishamiz.\n",
        "\n",
        "Boshlanishiga bu ikki tuzilmalarni ham dasturimizga chaqirib olaylik.\n",
        "pandas ikkita juda muhim va deyalri barcha loyihalar uchun mos tushuvchi Series va DataFrame ma'lumotlar tuzilamalariga ega. Keling ular bilan yaqindan tanishamiz.\n",
        "\n",
        "Boshlanishiga bu ikki tuzilmalarni ham dasturimizga chaqirib olaylik."
      ],
      "metadata": {
        "id": "bn7iOLMi847_"
      }
    },
    {
      "cell_type": "code",
      "source": [
        "from pandas import Series, DataFrame as df # DataFrameni qisqacha qilib df deb chariqib oldik"
      ],
      "metadata": {
        "id": "URLtC1wY9JPW"
      },
      "execution_count": 2,
      "outputs": []
    },
    {
      "cell_type": "markdown",
      "source": [
        "### 2.2.1 `Series`\n",
        "\n",
        "`Series` bir o'lchovli massivga o'xshash ma'lumotlar tuzilmasi bo'lib qiymatlar va ularga mos keluvchi indekslardan iborat bo'ladi.\n",
        "\n",
        "Eng sodda ko'rinishda `Series` ma'lumotlar massividan iborat bo'ladi."
      ],
      "metadata": {
        "id": "idwDV4gu9URm"
      }
    },
    {
      "cell_type": "code",
      "source": [
        "obj = Series([4, 5, -7, 3.2])"
      ],
      "metadata": {
        "id": "TjkWVZWu9ZZm"
      },
      "execution_count": 3,
      "outputs": []
    },
    {
      "cell_type": "code",
      "source": [
        "obj"
      ],
      "metadata": {
        "colab": {
          "base_uri": "https://localhost:8080/"
        },
        "id": "f6fdgxvV9en2",
        "outputId": "e48631e3-6216-4e0f-ed63-3d7446c243c9"
      },
      "execution_count": 4,
      "outputs": [
        {
          "output_type": "execute_result",
          "data": {
            "text/plain": [
              "0    4.0\n",
              "1    5.0\n",
              "2   -7.0\n",
              "3    3.2\n",
              "dtype: float64"
            ]
          },
          "metadata": {},
          "execution_count": 4
        }
      ]
    },
    {
      "cell_type": "markdown",
      "source": [
        "Konsolga chop etganda ,`Series` yuqoridagi kabi indekslar (chap ustun) va qiymatlar (o'ng ustun) ko'rinishida chiqadi.\n",
        "`Series` obyektini yaratsihda indekslarni bermaganimiz sababli indekslar `0` dan `N-1` gacha qiymatlarni oladi (`N` ma'lumotlar uzunligi).\n",
        "\n",
        "`Series` obyekti index va qiymatlarini alohida ajratib ko'rishimiz ham mumkin."
      ],
      "metadata": {
        "id": "N-7iGL4Q9i-u"
      }
    },
    {
      "cell_type": "code",
      "source": [],
      "metadata": {
        "id": "shp9eXRy9khm"
      },
      "execution_count": null,
      "outputs": []
    }
  ]
}