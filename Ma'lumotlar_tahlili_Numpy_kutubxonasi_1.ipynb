{
  "nbformat": 4,
  "nbformat_minor": 0,
  "metadata": {
    "colab": {
      "provenance": [],
      "authorship_tag": "ABX9TyPzW01HXvPeItZ7elB9QMU9",
      "include_colab_link": true
    },
    "kernelspec": {
      "name": "python3",
      "display_name": "Python 3"
    },
    "language_info": {
      "name": "python"
    }
  },
  "cells": [
    {
      "cell_type": "markdown",
      "metadata": {
        "id": "view-in-github",
        "colab_type": "text"
      },
      "source": [
        "<a href=\"https://colab.research.google.com/github/donisrv/Data-Science-ML-AI/blob/main/Ma'lumotlar_tahlili_Numpy_kutubxonasi_1.ipynb\" target=\"_parent\"><img src=\"https://colab.research.google.com/assets/colab-badge.svg\" alt=\"Open In Colab\"/></a>"
      ]
    },
    {
      "cell_type": "markdown",
      "source": [
        "![5pXzCIu.png](data:image/png;base64,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)"
      ],
      "metadata": {
        "id": "0sSTz5qxzNKI"
      }
    },
    {
      "cell_type": "markdown",
      "source": [
        "DATA SCIENCE VA SUN'IY INTELLEKT PRAKTIKUM\n",
        "\n",
        "\n",
        "---\n",
        "\n",
        "Ma'lumotlar tahlili.\n",
        "Numpy kutubxonasi.\n",
        "\n",
        "# **1-AMALIY VAZIFA**\n",
        "\n",
        "N-o'lchamli massivlar yaratish"
      ],
      "metadata": {
        "id": "QMNM1Pj_zZZx"
      }
    },
    {
      "cell_type": "code",
      "execution_count": 1,
      "metadata": {
        "id": "FAFwHpPXzMKx"
      },
      "outputs": [],
      "source": [
        "# Numpy kutubxonasini chaqirib olish\n",
        "import numpy as np"
      ]
    },
    {
      "cell_type": "markdown",
      "source": [
        "# Masala(1): 1-o'lchamli massivlar yaratish\\\n",
        "Masala sharti : Elementlari ixtiyoriy n ta (n > 0, butun son) bo'lgan 1-o'lchamli massiv (array) yaratuvchi funksiyani davom ettiring.\\\n",
        "Yordam : `array` yoki `random` funksiyasidan foydalaning.\\\n",
        "Funksiya yaratilishi haqida darslik: bog'lanma"
      ],
      "metadata": {
        "id": "I1NKMLfhz_Xg"
      }
    },
    {
      "cell_type": "code",
      "source": [
        "# JAVOBNI SHU YERGA YOZING\n",
        "def one_dim(n):\n",
        "  \"\"\" n ta elementdan tashkil topgan 1-o'lchamli massiv \"\"\"\n",
        "  return np.random.rand(n)\n",
        "n = 5\n",
        "my_array = one_dim(n)\n",
        "print(my_array)"
      ],
      "metadata": {
        "colab": {
          "base_uri": "https://localhost:8080/"
        },
        "id": "lRDhcVi20cUR",
        "outputId": "c6734a21-25aa-45ab-d3b4-802dd94a2d47"
      },
      "execution_count": 2,
      "outputs": [
        {
          "output_type": "stream",
          "name": "stdout",
          "text": [
            "[0.40738297 0.95268738 0.11096621 0.20346057 0.0607978 ]\n"
          ]
        }
      ]
    },
    {
      "cell_type": "markdown",
      "source": [
        "# Yuqoridagi yozgan funksiyangizni tekshirish uchun, quyidagi cellni yuriting.\\\n"
      ],
      "metadata": {
        "id": "V0FsRLCU0nNh"
      }
    },
    {
      "cell_type": "code",
      "source": [
        "#@title Tekshirish (natijada hech qanday xatolik yuz bermasligi kerak)\n",
        "\"\"\"Check that function returns the correct output for several inputs\"\"\"\n",
        "for i in range(1, 10):\n",
        "  assert len(one_dim(i)) == i, f\"n elementlar soni, funksiyada noto'g'ri qo'llanilgan\" # n elementlar soni\n",
        "  arr = one_dim(i) # massiv\n",
        "  assert arr.ndim == 1, f\"1-o'lchamli massiv aniqlanmadi\"# massiv o'lchami\n",
        "  assert type(arr) == np.ndarray, f\"massiv aniqlanmadi\" #numpy array"
      ],
      "metadata": {
        "id": "HU3InwGZ0tMX"
      },
      "execution_count": 3,
      "outputs": []
    },
    {
      "cell_type": "markdown",
      "source": [
        "# Masala(2) 2-o'lchamli massivlar yaratish\n",
        "Masala : Shakli shape(r, c) bo'lgan 2-o'lchamli massiv (array) yaratuvchi funksiyani davom ettiring.\n",
        "\n",
        "Yordam : numpy kutubxonasida massivlar yaratuvchi funksiyalarining istalganidan foydlanishingiz mumkin."
      ],
      "metadata": {
        "id": "1xhye0AJ1-Mv"
      }
    },
    {
      "cell_type": "code",
      "source": [
        "# JAVOBNI SHU YERGA YOZING\n",
        "def two_dim(r, c):\n",
        "    \"\"\" r ta qator, c ta ustundan tashkil topgan 2-o'lchamli massiv \"\"\"\n",
        "    return np.random.rand(r, c)\n",
        "\n",
        "# Funksiyadan foydalanish\n",
        "r = 3\n",
        "c = 4\n",
        "my_array = two_dim(r, c)\n",
        "print(my_array)"
      ],
      "metadata": {
        "colab": {
          "base_uri": "https://localhost:8080/"
        },
        "id": "Fz5aypQf2LrW",
        "outputId": "cf6279ae-de3f-4644-b5b6-4f0cbdd13f92"
      },
      "execution_count": 4,
      "outputs": [
        {
          "output_type": "stream",
          "name": "stdout",
          "text": [
            "[[0.27389665 0.60853044 0.69039988 0.54206599]\n",
            " [0.00910193 0.26984543 0.03454623 0.24822484]\n",
            " [0.78111839 0.74124779 0.95394214 0.55073999]]\n"
          ]
        }
      ]
    },
    {
      "cell_type": "markdown",
      "source": [
        "# Yuqoridagi yozgan funksiyangizni tekshirish uchun, quyidagi cellni yuriting."
      ],
      "metadata": {
        "id": "67r2I2mv2jb3"
      }
    },
    {
      "cell_type": "code",
      "source": [
        "#@title Tekshirish (natijada hech qanday xatolik yuz bermasligi kerak)\n",
        "\"\"\"Check that function returns the correct output for several inputs\"\"\"\n",
        "arr = two_dim(3, 2) # massiv\n",
        "assert arr.shape == (3, 2), f\"funksiyada, o'lchamlar noto'g'ri qo'llanilgan\" # shape\n",
        "assert arr.ndim == 2, f\"2-o'lchamli massiv aniqlanmadi\" # massiv o'lchami\n",
        "assert type(arr) == np.ndarray, f\"massiv aniqlanmadi\"# #numpy array"
      ],
      "metadata": {
        "id": "21wznaDw2b8v"
      },
      "execution_count": 5,
      "outputs": []
    }
  ]
}