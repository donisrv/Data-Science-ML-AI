{
  "nbformat": 4,
  "nbformat_minor": 0,
  "metadata": {
    "colab": {
      "provenance": [],
      "collapsed_sections": [],
      "authorship_tag": "ABX9TyPrmKJu3mkpWKn83p29KvfL",
      "include_colab_link": true
    },
    "kernelspec": {
      "name": "python3",
      "display_name": "Python 3"
    },
    "language_info": {
      "name": "python"
    }
  },
  "cells": [
    {
      "cell_type": "markdown",
      "metadata": {
        "id": "view-in-github",
        "colab_type": "text"
      },
      "source": [
        "<a href=\"https://colab.research.google.com/github/donisrv/Data-Science-ML-AI/blob/main/Boolean_Indekslash.ipynb\" target=\"_parent\"><img src=\"https://colab.research.google.com/assets/colab-badge.svg\" alt=\"Open In Colab\"/></a>"
      ]
    },
    {
      "cell_type": "markdown",
      "source": [
        "2.1.1. N-o'lchamli massiv (array)larga ishlov berish\n",
        "Bolean Indekslash"
      ],
      "metadata": {
        "id": "5Le4PD7ikF7f"
      }
    },
    {
      "cell_type": "code",
      "execution_count": 5,
      "metadata": {
        "id": "nnEbpyPRf0vl"
      },
      "outputs": [],
      "source": [
        "import numpy as np"
      ]
    },
    {
      "cell_type": "code",
      "source": [
        "# Ismlar\n",
        "names = np.array(['Hasan', 'Husan', 'Mirzabek', 'Elyor', 'Hasan', 'Jovohir', 'Elyor'])\n",
        "names"
      ],
      "metadata": {
        "colab": {
          "base_uri": "https://localhost:8080/"
        },
        "id": "yJrM8aKyjvF3",
        "outputId": "cd676984-4fb8-408a-dbcc-b792fb60e68f"
      },
      "execution_count": null,
      "outputs": [
        {
          "output_type": "execute_result",
          "data": {
            "text/plain": [
              "array(['Hasan', 'Husan', 'Mirzabek', 'Elyor', 'Hasan', 'Jovohir', 'Elyor'],\n",
              "      dtype='<U8')"
            ]
          },
          "metadata": {},
          "execution_count": 37
        }
      ]
    },
    {
      "cell_type": "code",
      "source": [
        "# data\n",
        "data = np.random.randn(7, 4)\n",
        "data"
      ],
      "metadata": {
        "colab": {
          "base_uri": "https://localhost:8080/"
        },
        "id": "BFgmzeEBkofA",
        "outputId": "f9f763bd-9459-4872-fc2c-7ff997e2e67c"
      },
      "execution_count": null,
      "outputs": [
        {
          "output_type": "execute_result",
          "data": {
            "text/plain": [
              "array([[-1.18601969, -1.14740263,  0.53377754, -0.30520187],\n",
              "       [ 0.25769257,  0.55312029, -0.29209895,  0.98997317],\n",
              "       [ 0.41172316, -0.59544489, -0.61564884, -0.87155024],\n",
              "       [ 2.51449607, -0.17165775, -1.76408877, -0.28315504],\n",
              "       [ 1.48922345, -0.47285845,  0.36850894, -0.3008245 ],\n",
              "       [ 1.24347061, -0.0076268 , -1.22069823,  1.06990967],\n",
              "       [ 0.4735319 ,  0.42147782,  0.64673209, -1.34518651]])"
            ]
          },
          "metadata": {},
          "execution_count": 38
        }
      ]
    },
    {
      "cell_type": "code",
      "source": [
        "names == 'Hasan'"
      ],
      "metadata": {
        "colab": {
          "base_uri": "https://localhost:8080/"
        },
        "id": "TuTMDNRKk_nW",
        "outputId": "87309e55-4c20-44cb-ef57-a27cf6040bfa"
      },
      "execution_count": null,
      "outputs": [
        {
          "output_type": "execute_result",
          "data": {
            "text/plain": [
              "array([ True, False, False, False,  True, False, False])"
            ]
          },
          "metadata": {},
          "execution_count": 39
        }
      ]
    },
    {
      "cell_type": "code",
      "source": [
        "data[names == 'Hasan'] # Hasanga tegishli barcha ma'lumotlarni ajratib olish"
      ],
      "metadata": {
        "colab": {
          "base_uri": "https://localhost:8080/"
        },
        "id": "xyTPL2vrl38W",
        "outputId": "31de4a63-3dcd-4bcc-bcd1-c4259ce94f11"
      },
      "execution_count": null,
      "outputs": [
        {
          "output_type": "execute_result",
          "data": {
            "text/plain": [
              "array([[-1.18601969, -1.14740263,  0.53377754, -0.30520187],\n",
              "       [ 1.48922345, -0.47285845,  0.36850894, -0.3008245 ]])"
            ]
          },
          "metadata": {},
          "execution_count": 40
        }
      ]
    },
    {
      "cell_type": "code",
      "source": [
        "data[names == 'Elyor'] # Elyorga tegishli barcha ma'lumotlarni ajratib olish"
      ],
      "metadata": {
        "colab": {
          "base_uri": "https://localhost:8080/"
        },
        "id": "41XVzqZzl9SG",
        "outputId": "51ee6a90-c3b9-4364-ec61-f1817fe27c0c"
      },
      "execution_count": null,
      "outputs": [
        {
          "output_type": "execute_result",
          "data": {
            "text/plain": [
              "array([[ 2.51449607, -0.17165775, -1.76408877, -0.28315504],\n",
              "       [ 0.4735319 ,  0.42147782,  0.64673209, -1.34518651]])"
            ]
          },
          "metadata": {},
          "execution_count": 41
        }
      ]
    },
    {
      "cell_type": "code",
      "source": [
        "data[names == 'Husan'] # Husanga tegishli barcha ma'lumotlarni ajratib olish"
      ],
      "metadata": {
        "colab": {
          "base_uri": "https://localhost:8080/"
        },
        "id": "-XEm1AExmBeu",
        "outputId": "ab211ae6-6ec6-4797-bc52-bdeea155b63d"
      },
      "execution_count": null,
      "outputs": [
        {
          "output_type": "execute_result",
          "data": {
            "text/plain": [
              "array([[-0.11854623, -0.63809246, -0.61989623, -0.76427123]])"
            ]
          },
          "metadata": {},
          "execution_count": 13
        }
      ]
    },
    {
      "cell_type": "code",
      "source": [
        "data[names=='Hasan', 2:] # Hasanga tegishli oxirgi ikkita ustundagi ma'lumotlarni ajratib olish"
      ],
      "metadata": {
        "colab": {
          "base_uri": "https://localhost:8080/"
        },
        "id": "Hsj7qOqrmQgO",
        "outputId": "0c0286d5-4430-4d51-d3f6-3b9c038e288a"
      },
      "execution_count": null,
      "outputs": [
        {
          "output_type": "execute_result",
          "data": {
            "text/plain": [
              "array([[-0.764806  ,  0.56642411],\n",
              "       [-0.80341514,  0.2270759 ]])"
            ]
          },
          "metadata": {},
          "execution_count": 14
        }
      ]
    },
    {
      "cell_type": "code",
      "source": [
        "data[names=='Husan', :2] # Husanga tegishli oxirgi ikkita ustundagi ma'lumotlarni ajratib olish"
      ],
      "metadata": {
        "colab": {
          "base_uri": "https://localhost:8080/"
        },
        "id": "glXaT1x9m0UV",
        "outputId": "fd3ff5b4-59c6-4428-e398-4686e16b0f3a"
      },
      "execution_count": null,
      "outputs": [
        {
          "output_type": "execute_result",
          "data": {
            "text/plain": [
              "array([[-0.11854623, -0.63809246]])"
            ]
          },
          "metadata": {},
          "execution_count": 15
        }
      ]
    },
    {
      "cell_type": "code",
      "source": [
        "data[names != 'Hasan'] # (!=)Hasandan tashqari barcha insonlarning ma'lumotlarni ajratib olish"
      ],
      "metadata": {
        "colab": {
          "base_uri": "https://localhost:8080/"
        },
        "id": "dfUlwtd_nCG9",
        "outputId": "d244b7d3-32af-4f8d-f926-75753fefa680"
      },
      "execution_count": null,
      "outputs": [
        {
          "output_type": "execute_result",
          "data": {
            "text/plain": [
              "array([[-0.11854623, -0.63809246, -0.61989623, -0.76427123],\n",
              "       [-1.04283845, -1.958119  ,  1.60295445, -0.88350431],\n",
              "       [-0.75877684, -1.70240591,  1.5050407 ,  1.16670549],\n",
              "       [-2.96612522,  0.57880335, -0.54526737,  0.0249023 ],\n",
              "       [-0.39899929, -0.60943313,  0.58889664, -0.138976  ]])"
            ]
          },
          "metadata": {},
          "execution_count": 16
        }
      ]
    },
    {
      "cell_type": "code",
      "source": [
        "data[~(names == 'Hasan')] # (~) yuqoridagi cell bilan bir xil natijani berar ekan"
      ],
      "metadata": {
        "colab": {
          "base_uri": "https://localhost:8080/"
        },
        "id": "DbNocNwFnXKW",
        "outputId": "f483d74f-b345-4093-fdd3-f297dcb35e6d"
      },
      "execution_count": null,
      "outputs": [
        {
          "output_type": "execute_result",
          "data": {
            "text/plain": [
              "array([[-0.11854623, -0.63809246, -0.61989623, -0.76427123],\n",
              "       [-1.04283845, -1.958119  ,  1.60295445, -0.88350431],\n",
              "       [-0.75877684, -1.70240591,  1.5050407 ,  1.16670549],\n",
              "       [-2.96612522,  0.57880335, -0.54526737,  0.0249023 ],\n",
              "       [-0.39899929, -0.60943313,  0.58889664, -0.138976  ]])"
            ]
          },
          "metadata": {},
          "execution_count": 17
        }
      ]
    },
    {
      "cell_type": "code",
      "source": [
        "print(names)\n",
        "print(data)"
      ],
      "metadata": {
        "colab": {
          "base_uri": "https://localhost:8080/"
        },
        "id": "lbNKaq72nk3O",
        "outputId": "90e94de6-a727-4093-a093-43d969adbcf5"
      },
      "execution_count": null,
      "outputs": [
        {
          "output_type": "stream",
          "name": "stdout",
          "text": [
            "['Hasan' 'Husan' 'Mirzabek' 'Elyor' 'Hasan' 'Jovohir' 'Elyor']\n",
            "[[ 1.11125281 -0.12096374 -0.764806    0.56642411]\n",
            " [-0.11854623 -0.63809246 -0.61989623 -0.76427123]\n",
            " [-1.04283845 -1.958119    1.60295445 -0.88350431]\n",
            " [-0.75877684 -1.70240591  1.5050407   1.16670549]\n",
            " [ 0.06667806  0.92211753 -0.80341514  0.2270759 ]\n",
            " [-2.96612522  0.57880335 -0.54526737  0.0249023 ]\n",
            " [-0.39899929 -0.60943313  0.58889664 -0.138976  ]]\n"
          ]
        }
      ]
    },
    {
      "cell_type": "code",
      "source": [
        "mask = (names == 'Hasan') | (names == 'Husan') # \"|\" or (yoki)\n",
        "mask #  Husan va Hasanga tegishli oxirgi ikkita ustundagi ma'lumotlarni ajratib olish"
      ],
      "metadata": {
        "colab": {
          "base_uri": "https://localhost:8080/"
        },
        "id": "TCp13rQVnvDl",
        "outputId": "a2f6d021-487f-4c82-8347-830d5ad7fb48"
      },
      "execution_count": null,
      "outputs": [
        {
          "output_type": "execute_result",
          "data": {
            "text/plain": [
              "array([ True,  True, False, False,  True, False, False])"
            ]
          },
          "metadata": {},
          "execution_count": 32
        }
      ]
    },
    {
      "cell_type": "code",
      "source": [
        "data[mask] # Hasan va Husanlarga tegishli ma'lumotlarni ajratib olish"
      ],
      "metadata": {
        "colab": {
          "base_uri": "https://localhost:8080/"
        },
        "id": "CkJyG601n_Ol",
        "outputId": "3358adf5-af29-4e95-d966-25d4a6405c04"
      },
      "execution_count": null,
      "outputs": [
        {
          "output_type": "execute_result",
          "data": {
            "text/plain": [
              "array([[ 1.11125281, -0.12096374, -0.764806  ,  0.56642411],\n",
              "       [-0.11854623, -0.63809246, -0.61989623, -0.76427123],\n",
              "       [ 0.06667806,  0.92211753, -0.80341514,  0.2270759 ]])"
            ]
          },
          "metadata": {},
          "execution_count": 33
        }
      ]
    },
    {
      "cell_type": "code",
      "source": [
        "data"
      ],
      "metadata": {
        "colab": {
          "base_uri": "https://localhost:8080/"
        },
        "id": "61PhtbyQpRt5",
        "outputId": "c5fff355-c160-4336-a153-2128e265f9a9"
      },
      "execution_count": null,
      "outputs": [
        {
          "output_type": "execute_result",
          "data": {
            "text/plain": [
              "array([[ 1.11125281, -0.12096374, -0.764806  ,  0.56642411],\n",
              "       [-0.11854623, -0.63809246, -0.61989623, -0.76427123],\n",
              "       [-1.04283845, -1.958119  ,  1.60295445, -0.88350431],\n",
              "       [-0.75877684, -1.70240591,  1.5050407 ,  1.16670549],\n",
              "       [ 0.06667806,  0.92211753, -0.80341514,  0.2270759 ],\n",
              "       [-2.96612522,  0.57880335, -0.54526737,  0.0249023 ],\n",
              "       [-0.39899929, -0.60943313,  0.58889664, -0.138976  ]])"
            ]
          },
          "metadata": {},
          "execution_count": 34
        }
      ]
    },
    {
      "cell_type": "code",
      "source": [
        "data[data<0] = 0\n",
        "data"
      ],
      "metadata": {
        "colab": {
          "base_uri": "https://localhost:8080/"
        },
        "id": "R2sO2uumpVmE",
        "outputId": "cd05884b-45c7-4feb-ced0-aaad61d23cf9"
      },
      "execution_count": null,
      "outputs": [
        {
          "output_type": "execute_result",
          "data": {
            "text/plain": [
              "array([[1.11125281, 0.        , 0.        , 0.56642411],\n",
              "       [0.        , 0.        , 0.        , 0.        ],\n",
              "       [0.        , 0.        , 1.60295445, 0.        ],\n",
              "       [0.        , 0.        , 1.5050407 , 1.16670549],\n",
              "       [0.06667806, 0.92211753, 0.        , 0.2270759 ],\n",
              "       [0.        , 0.57880335, 0.        , 0.0249023 ],\n",
              "       [0.        , 0.        , 0.58889664, 0.        ]])"
            ]
          },
          "metadata": {},
          "execution_count": 35
        }
      ]
    },
    {
      "cell_type": "markdown",
      "source": [
        "# ![Imgur](https://i.imgur.com/5pXzCIu.png)\n",
        "\n",
        "# **DATA SCIENCE VA SUN'IY INTELLEKT PRAKTIKUM**\n",
        "\n",
        "## Ma'lumotlar tahlili. Numpy kutubxonasi. \n",
        "\n",
        "# **2-AMALIY VAZIFA**\n",
        "\n",
        "## N-o'lchamli massivlarga ishov berish"
      ],
      "metadata": {
        "id": "8qkbc49JBZNH"
      }
    },
    {
      "cell_type": "markdown",
      "source": [
        "### Masala(1): 2-o'lchamli massiv yaratish \n",
        "\n",
        "**Masala sharti :** Elementlari 0 dan 9 gacha (9 ning o'zi massiv elementiga kirmaydi), qadami esa 1 ga teng bo'lgan (3, 3) o'lchamli massiv yaratuvchi funksiyani davom ettiring.  \n",
        "\n",
        "**Yordam :**  `arange`dan foydalanish ishni osonlashtiradi \n"
      ],
      "metadata": {
        "id": "j5icBjxoBunX"
      }
    },
    {
      "cell_type": "code",
      "source": [
        "# JAVOBNI SHU YERGA YOZING\n",
        "def nd_array():\n",
        "  \"\"\"Elementlari 0 dan 9 gacha (9 ning o'zi massiv elementiga kirmaydi), \n",
        "  qadami esa 1 ga teng bo'lgan (3, 3) o'lchamli massiv \"\"\"\n",
        "  arrn = np.arange(9).reshape(3, 3)\n",
        "  print(\"\"\"Elementlari 0 dan 9 gacha (9 ning o'zi massiv elementiga kirmaydi), \n",
        "  qadami esa 1 ga teng bo'lgan (3, 3) o'lchamli massiv \\n\"\"\",arrn)\n",
        "  return arrn"
      ],
      "metadata": {
        "id": "DBQltgXJpYGM"
      },
      "execution_count": 3,
      "outputs": []
    },
    {
      "cell_type": "markdown",
      "source": [
        "Tekshirish (natijada hech qanday xatolik yuz bermasligi kerak)\n"
      ],
      "metadata": {
        "id": "4Y0Ym3oxB46e"
      }
    },
    {
      "cell_type": "code",
      "source": [
        "#@title Tekshirish (natijada hech qanday xatolik yuz bermasligi kerak)\n",
        "\"\"\"Funksiyani tekshirish\"\"\"\n",
        "arr = nd_array() # massiv\n",
        "assert arr.size == 9, f\"elementlar sonida xatolik mavjud\"  # elementlar soni\n",
        "assert type(arr) == np.ndarray, f\"massiv aniqlanmadi\" #numpy array \n",
        "# elementwise test\n",
        "test_arr = np.arange(9).reshape(3, 3)\n",
        "assert arr.shape == (3, 3), f\"noto'g'ri qator va ustunlardan foydalanilgan\"\n",
        "assert True in np.in1d(arr, test_arr), f\"elementlararo xatolik mavjud\"\n"
      ],
      "metadata": {
        "colab": {
          "base_uri": "https://localhost:8080/"
        },
        "id": "KHW2ZTC0B0oM",
        "outputId": "abfce092-41ad-48fa-b5cd-70432ed7a71a"
      },
      "execution_count": 6,
      "outputs": [
        {
          "output_type": "stream",
          "name": "stdout",
          "text": [
            "Elementlari 0 dan 9 gacha (9 ning o'zi massiv elementiga kirmaydi), \n",
            "  qadami esa 1 ga teng bo'lgan (3, 3) o'lchamli massiv \n",
            " [[0 1 2]\n",
            " [3 4 5]\n",
            " [6 7 8]]\n"
          ]
        }
      ]
    },
    {
      "cell_type": "markdown",
      "source": [
        "###  Masala(2): Indeks yordamida 2-o'lchamli massivlardan elementlarni  kesib olish \n",
        "**Masala :** Yuqorida yaratilgan massivning elementlari 6 va 7 ga teng bo'lgan qismini kesib olish funksiyasini davom ettiring.\n",
        "\n",
        "**Yordam :** 6 va 7 turgan indekslarni aniqlab olib, shu indekslar yordamida kesib oling. **Natija:** array([6, 7]) ko'rinishida bo'lishi kerak. "
      ],
      "metadata": {
        "id": "Erz3L6HGOTHe"
      }
    },
    {
      "cell_type": "code",
      "source": [
        "# JAVOBNI SHU YERGA YOZING\n",
        "def sliced_array_2d():\n",
        "    \"\"\"Yuqorida yaratilgan massivning elementlari 6 va 7 ga teng bo'lgan\n",
        "     qismini kesib olish funksiyasi \"\"\"\n",
        "    array = nd_array() # yuqoridagi funksiya yordamida array yaratib olish\n",
        "    arn = array[2, :2]\n",
        "    print(\"\"\"\\nYuqorida yaratilgan massivning elementlari 6 va 7 ga teng bo'lgan\n",
        "     qismini kesib olish funksiyasi \"\"\")\n",
        "    print(\"\")\n",
        "    print('Javob:',arn)\n",
        "    return arn"
      ],
      "metadata": {
        "id": "rCmpwT0YOcyV"
      },
      "execution_count": 11,
      "outputs": []
    },
    {
      "cell_type": "code",
      "source": [
        "#@title Tekshirish (natijada hech qanday xatolik yuz bermasligi kerak)\n",
        "\"\"\"Funksiyani tekshirish\"\"\"\n",
        "sl_arr_2d = sliced_array_2d() # kesib olingan massiv\n",
        "assert sl_arr_2d.size == 2, f\"elementlar sonida xatolik mavjud\"  # elementlar soni\n",
        "assert type(sl_arr_2d) == np.ndarray, f\"massiv aniqlanmadi\" #numpy array \n",
        "# elementwise test\n",
        "test_arr = np.array([6, 7])\n",
        "assert sl_arr_2d.shape == (2,), f\"kesib olingan massiv shaklida xatolik mavjud\"\n",
        "assert True in np.in1d(sl_arr_2d, test_arr), f\"elementlararo xatolik mavjud\""
      ],
      "metadata": {
        "colab": {
          "base_uri": "https://localhost:8080/"
        },
        "id": "iso3HvPsOf_e",
        "outputId": "a5e0e5b6-db7d-4f78-8481-183905fc961b"
      },
      "execution_count": 12,
      "outputs": [
        {
          "output_type": "stream",
          "name": "stdout",
          "text": [
            "Elementlari 0 dan 9 gacha (9 ning o'zi massiv elementiga kirmaydi), \n",
            "  qadami esa 1 ga teng bo'lgan (3, 3) o'lchamli massiv \n",
            " [[0 1 2]\n",
            " [3 4 5]\n",
            " [6 7 8]]\n",
            "\n",
            "Yuqorida yaratilgan massivning elementlari 6 va 7 ga teng bo'lgan\n",
            "     qismini kesib olish funksiyasi \n",
            "\n",
            "Javob: [6 7]\n"
          ]
        }
      ]
    },
    {
      "cell_type": "code",
      "source": [],
      "metadata": {
        "id": "1lehG6VMOsot"
      },
      "execution_count": null,
      "outputs": []
    }
  ]
}